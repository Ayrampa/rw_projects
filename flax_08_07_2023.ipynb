{
 "cells": [
  {
   "cell_type": "markdown",
   "id": "3c24b500",
   "metadata": {},
   "source": [
    "# Machine learning analysis and visualization of the Belarusian ancient flax varieties (Linum usitatissimum L.)"
   ]
  },
  {
   "cell_type": "code",
   "execution_count": 1,
   "id": "5a5f998f",
   "metadata": {},
   "outputs": [],
   "source": [
    "# Import modules\n",
    "import numpy as np\n",
    "import pandas as pd\n",
    "import matplotlib.pyplot as plt\n",
    "import seaborn as sns\n",
    "import statsmodels.api as sm\n",
    "from statsmodels.formula.api import ols\n",
    "import scipy.stats as stats\n",
    "\n",
    "from sklearn.model_selection import train_test_split\n",
    "from sklearn.metrics import confusion_matrix\n",
    "from sklearn.ensemble import RandomForestClassifier\n",
    "from sklearn.metrics import accuracy_score\n",
    "from sklearn import metrics\n",
    "from sklearn.model_selection import GridSearchCV\n",
    "from sklearn.model_selection import KFold"
   ]
  },
  {
   "cell_type": "markdown",
   "id": "80ab745d",
   "metadata": {},
   "source": [
    "### Weather conditions during flax vegetation period."
   ]
  },
  {
   "cell_type": "code",
   "execution_count": 2,
   "id": "20063f86",
   "metadata": {},
   "outputs": [],
   "source": [
    "# Load weather conditions - temperature and precipitation during the flax vegetation period (may- august)\n",
    "df_w = pd.read_excel('~/db/flax_data_manuscript.ods', sheet_name='weather')"
   ]
  },
  {
   "cell_type": "code",
   "execution_count": 3,
   "id": "fe9f2a5b",
   "metadata": {},
   "outputs": [
    {
     "data": {
      "text/plain": [
       "<Figure size 3600x2700 with 0 Axes>"
      ]
     },
     "metadata": {},
     "output_type": "display_data"
    }
   ],
   "source": [
    "# Precipitation, mm and Temperature, C, in may, june, jully and august. \n",
    "plt.rcParams.update({'figure.dpi':300})\n",
    "plt.style.use('ggplot')\n",
    "g = sns.FacetGrid(df_w, col=\"year\", col_wrap=4, sharex=True)\n",
    "g = g.map(plt.bar, \"month\", \"T, °C\", color=\"orange\", linewidth=1)\n",
    "for ax, (_, subdata) in zip(g.axes, df_w.groupby('year')):\n",
    "    ax2=ax.twinx()\n",
    "    ax2.set_ylim(0, 180)\n",
    "    ax.set_ylim(0, 60)\n",
    "    subdata.plot(x=\"month\",y=\"Rain, mm\", ax=ax2,legend=True,color='blue', marker='o')\n",
    "    ax.set_ylabel('Temperature, °C')  \n",
    "    ax2.set_ylabel('Precipitation, mm')\n",
    "    \n",
    "ax2.yaxis.set_label_position(\"right\")\n",
    "ax2.yaxis.tick_right()\n",
    "#g.tight_layout()\n",
    "plt.clf()"
   ]
  },
  {
   "cell_type": "code",
   "execution_count": 4,
   "id": "a1e52672",
   "metadata": {},
   "outputs": [
    {
     "data": {
      "text/plain": [
       "<Figure size 2100x1200 with 0 Axes>"
      ]
     },
     "metadata": {},
     "output_type": "display_data"
    }
   ],
   "source": [
    "# Plot average temperatures of the vegetation period by year\n",
    "\n",
    "plt.rcParams.update({'figure.figsize':(7, 4), 'figure.dpi':300})\n",
    "sns.boxplot(x = 'year', y = 'T, °C', data = df_w, palette = 'dark:salmon', showmeans=True)\n",
    "plt.ylabel('Temperature, C')\n",
    "plt.title('Averadge Temperatures during the vegetation period')\n",
    "\n",
    "plt.clf()"
   ]
  },
  {
   "cell_type": "code",
   "execution_count": 5,
   "id": "12a2f6b4",
   "metadata": {},
   "outputs": [
    {
     "data": {
      "text/plain": [
       "<Figure size 2100x1200 with 0 Axes>"
      ]
     },
     "metadata": {},
     "output_type": "display_data"
    }
   ],
   "source": [
    "# Plot average precipitation of the vegetation period by year\n",
    "\n",
    "plt.rcParams.update({'figure.figsize':(7,4), 'figure.dpi':300})\n",
    "sns.boxplot(x = 'year', y = 'Rain, mm', data = df_w,palette = 'cubehelix', showmeans=True)\n",
    "plt.ylabel('Precipitation, mm')\n",
    "plt.title('Averadge Precipitation during the vegetation period')\n",
    "\n",
    "plt.clf()"
   ]
  },
  {
   "cell_type": "markdown",
   "id": "5e55a7c9",
   "metadata": {},
   "source": [
    "## Statistical analysis"
   ]
  },
  {
   "cell_type": "code",
   "execution_count": 6,
   "id": "91851318",
   "metadata": {},
   "outputs": [
    {
     "data": {
      "text/html": [
       "<div>\n",
       "<style scoped>\n",
       "    .dataframe tbody tr th:only-of-type {\n",
       "        vertical-align: middle;\n",
       "    }\n",
       "\n",
       "    .dataframe tbody tr th {\n",
       "        vertical-align: top;\n",
       "    }\n",
       "\n",
       "    .dataframe thead th {\n",
       "        text-align: right;\n",
       "    }\n",
       "</style>\n",
       "<table border=\"1\" class=\"dataframe\">\n",
       "  <thead>\n",
       "    <tr style=\"text-align: right;\">\n",
       "      <th></th>\n",
       "      <th>Variety</th>\n",
       "      <th>LIS_plastic</th>\n",
       "      <th>plant_natural_height</th>\n",
       "      <th>n_capsules</th>\n",
       "      <th>n_seeds</th>\n",
       "      <th>stem_length</th>\n",
       "    </tr>\n",
       "  </thead>\n",
       "  <tbody>\n",
       "    <tr>\n",
       "      <th>0</th>\n",
       "      <td>k-6222</td>\n",
       "      <td>1</td>\n",
       "      <td>68</td>\n",
       "      <td>4</td>\n",
       "      <td>8</td>\n",
       "      <td>50</td>\n",
       "    </tr>\n",
       "    <tr>\n",
       "      <th>1</th>\n",
       "      <td>k-6222</td>\n",
       "      <td>1</td>\n",
       "      <td>50</td>\n",
       "      <td>5</td>\n",
       "      <td>8</td>\n",
       "      <td>42</td>\n",
       "    </tr>\n",
       "    <tr>\n",
       "      <th>2</th>\n",
       "      <td>k-6222</td>\n",
       "      <td>1</td>\n",
       "      <td>51</td>\n",
       "      <td>6</td>\n",
       "      <td>8</td>\n",
       "      <td>45</td>\n",
       "    </tr>\n",
       "    <tr>\n",
       "      <th>3</th>\n",
       "      <td>k-6222</td>\n",
       "      <td>1</td>\n",
       "      <td>70</td>\n",
       "      <td>6</td>\n",
       "      <td>9</td>\n",
       "      <td>53</td>\n",
       "    </tr>\n",
       "    <tr>\n",
       "      <th>4</th>\n",
       "      <td>k-6222</td>\n",
       "      <td>1</td>\n",
       "      <td>62</td>\n",
       "      <td>11</td>\n",
       "      <td>9</td>\n",
       "      <td>47</td>\n",
       "    </tr>\n",
       "  </tbody>\n",
       "</table>\n",
       "</div>"
      ],
      "text/plain": [
       "  Variety LIS_plastic  plant_natural_height  n_capsules  n_seeds  stem_length\n",
       "0  k-6222           1                    68           4        8           50\n",
       "1  k-6222           1                    50           5        8           42\n",
       "2  k-6222           1                    51           6        8           45\n",
       "3  k-6222           1                    70           6        9           53\n",
       "4  k-6222           1                    62          11        9           47"
      ]
     },
     "execution_count": 6,
     "metadata": {},
     "output_type": "execute_result"
    }
   ],
   "source": [
    "# Load database df_1 for analysis\n",
    "df_1 = pd.read_excel(\"~/db/flax_data_manuscript.ods\", sheet_name='anova')\n",
    "df_1.head()"
   ]
  },
  {
   "cell_type": "code",
   "execution_count": 7,
   "id": "9c2d7e2a",
   "metadata": {},
   "outputs": [
    {
     "data": {
      "text/plain": [
       "Index(['Variety', 'LIS_plastic', 'plant_natural_height', 'n_capsules',\n",
       "       'n_seeds', 'stem_length'],\n",
       "      dtype='object')"
      ]
     },
     "execution_count": 7,
     "metadata": {},
     "output_type": "execute_result"
    }
   ],
   "source": [
    "# Display columns\n",
    "df_1.columns"
   ]
  },
  {
   "cell_type": "code",
   "execution_count": 8,
   "id": "dc817741",
   "metadata": {},
   "outputs": [],
   "source": [
    "# Select numeric features\n",
    "df_anova = df_1[['LIS_plastic', 'plant_natural_height', 'n_capsules', 'n_seeds',\n",
    "       'stem_length']]"
   ]
  },
  {
   "cell_type": "code",
   "execution_count": 9,
   "id": "35058a2e",
   "metadata": {},
   "outputs": [
    {
     "name": "stdout",
     "output_type": "stream",
     "text": [
      "             count  mean   std   min   25%   50%   75%   max\n",
      "LIS_plastic                                                 \n",
      "0             20.0  66.0  10.0  49.0  59.0  68.0  74.0  80.0\n",
      "1             99.0  60.0   6.0  45.0  56.0  60.0  65.0  71.0\n",
      "pl           125.0  65.0   6.0  50.0  60.0  65.0  70.0  80.0 2\n"
     ]
    }
   ],
   "source": [
    "# Table 1. Basic plant natural height statistics for each group of flax varieties.\n",
    "print(round(df_anova.groupby('LIS_plastic').describe().plant_natural_height),2)"
   ]
  },
  {
   "cell_type": "code",
   "execution_count": 10,
   "id": "ac487b80",
   "metadata": {},
   "outputs": [
    {
     "name": "stdout",
     "output_type": "stream",
     "text": [
      "             count  mean  std  min  25%  50%  75%   max\n",
      "LIS_plastic                                            \n",
      "0             20.0   8.0  1.0  7.0  8.0  8.0  8.0   9.0\n",
      "1             99.0   8.0  1.0  5.0  7.0  8.0  8.0  10.0\n",
      "pl           125.0   8.0  1.0  6.0  8.0  8.0  9.0  10.0 2\n"
     ]
    }
   ],
   "source": [
    "# Table 2. Basic statistics on the number of seeds for each group of flax varieties. \n",
    "print(round(df_anova.groupby('LIS_plastic').describe().n_seeds),2)"
   ]
  },
  {
   "cell_type": "code",
   "execution_count": 11,
   "id": "0f92f663",
   "metadata": {},
   "outputs": [],
   "source": [
    "# Slice dataframe - plants with insertion\n",
    "df_ins = df_anova[df_anova['LIS_plastic'] == 1]"
   ]
  },
  {
   "cell_type": "code",
   "execution_count": 12,
   "id": "208412dd",
   "metadata": {},
   "outputs": [
    {
     "data": {
      "text/html": [
       "<div>\n",
       "<style scoped>\n",
       "    .dataframe tbody tr th:only-of-type {\n",
       "        vertical-align: middle;\n",
       "    }\n",
       "\n",
       "    .dataframe tbody tr th {\n",
       "        vertical-align: top;\n",
       "    }\n",
       "\n",
       "    .dataframe thead th {\n",
       "        text-align: right;\n",
       "    }\n",
       "</style>\n",
       "<table border=\"1\" class=\"dataframe\">\n",
       "  <thead>\n",
       "    <tr style=\"text-align: right;\">\n",
       "      <th></th>\n",
       "      <th>plant_natural_height</th>\n",
       "      <th>n_capsules</th>\n",
       "      <th>n_seeds</th>\n",
       "      <th>stem_length</th>\n",
       "    </tr>\n",
       "  </thead>\n",
       "  <tbody>\n",
       "    <tr>\n",
       "      <th>count</th>\n",
       "      <td>99.00</td>\n",
       "      <td>99.00</td>\n",
       "      <td>99.00</td>\n",
       "      <td>99.00</td>\n",
       "    </tr>\n",
       "    <tr>\n",
       "      <th>mean</th>\n",
       "      <td>60.14</td>\n",
       "      <td>6.90</td>\n",
       "      <td>7.75</td>\n",
       "      <td>48.17</td>\n",
       "    </tr>\n",
       "    <tr>\n",
       "      <th>std</th>\n",
       "      <td>6.07</td>\n",
       "      <td>2.05</td>\n",
       "      <td>1.15</td>\n",
       "      <td>5.59</td>\n",
       "    </tr>\n",
       "    <tr>\n",
       "      <th>min</th>\n",
       "      <td>45.00</td>\n",
       "      <td>4.00</td>\n",
       "      <td>5.00</td>\n",
       "      <td>30.00</td>\n",
       "    </tr>\n",
       "    <tr>\n",
       "      <th>25%</th>\n",
       "      <td>56.50</td>\n",
       "      <td>5.00</td>\n",
       "      <td>7.00</td>\n",
       "      <td>43.50</td>\n",
       "    </tr>\n",
       "    <tr>\n",
       "      <th>50%</th>\n",
       "      <td>60.00</td>\n",
       "      <td>7.00</td>\n",
       "      <td>8.00</td>\n",
       "      <td>50.00</td>\n",
       "    </tr>\n",
       "    <tr>\n",
       "      <th>75%</th>\n",
       "      <td>65.00</td>\n",
       "      <td>8.00</td>\n",
       "      <td>8.50</td>\n",
       "      <td>51.50</td>\n",
       "    </tr>\n",
       "    <tr>\n",
       "      <th>max</th>\n",
       "      <td>71.00</td>\n",
       "      <td>13.00</td>\n",
       "      <td>10.00</td>\n",
       "      <td>62.00</td>\n",
       "    </tr>\n",
       "  </tbody>\n",
       "</table>\n",
       "</div>"
      ],
      "text/plain": [
       "       plant_natural_height  n_capsules  n_seeds  stem_length\n",
       "count                 99.00       99.00    99.00        99.00\n",
       "mean                  60.14        6.90     7.75        48.17\n",
       "std                    6.07        2.05     1.15         5.59\n",
       "min                   45.00        4.00     5.00        30.00\n",
       "25%                   56.50        5.00     7.00        43.50\n",
       "50%                   60.00        7.00     8.00        50.00\n",
       "75%                   65.00        8.00     8.50        51.50\n",
       "max                   71.00       13.00    10.00        62.00"
      ]
     },
     "execution_count": 12,
     "metadata": {},
     "output_type": "execute_result"
    }
   ],
   "source": [
    "# Get basic statistics\n",
    "round(df_ins.describe(),2)"
   ]
  },
  {
   "cell_type": "code",
   "execution_count": 13,
   "id": "9b896fa4",
   "metadata": {},
   "outputs": [
    {
     "data": {
      "image/png": "[encoded data removed]",
      "text/plain": [
       "<Figure size 2100x1200 with 1 Axes>"
      ]
     },
     "metadata": {},
     "output_type": "display_data"
    }
   ],
   "source": [
    "# Vizualize feature 'plant_natural_height' for plants with insertion - no outliers detected\n",
    "plt.rcParams.update({'figure.figsize':(7,4), 'figure.dpi':300})\n",
    "plt.boxplot(df_ins['plant_natural_height'], showmeans= True)\n",
    "plt.title('Plant natural height')\n",
    "plt.show()"
   ]
  },
  {
   "cell_type": "code",
   "execution_count": 14,
   "id": "8632ef9a",
   "metadata": {},
   "outputs": [],
   "source": [
    "# Slice dataframe - plants with no insertion\n",
    "df_no_ins = df_anova[df_anova['LIS_plastic'] == 0]"
   ]
  },
  {
   "cell_type": "code",
   "execution_count": 15,
   "id": "6a9146be",
   "metadata": {},
   "outputs": [
    {
     "data": {
      "text/html": [
       "<div>\n",
       "<style scoped>\n",
       "    .dataframe tbody tr th:only-of-type {\n",
       "        vertical-align: middle;\n",
       "    }\n",
       "\n",
       "    .dataframe tbody tr th {\n",
       "        vertical-align: top;\n",
       "    }\n",
       "\n",
       "    .dataframe thead th {\n",
       "        text-align: right;\n",
       "    }\n",
       "</style>\n",
       "<table border=\"1\" class=\"dataframe\">\n",
       "  <thead>\n",
       "    <tr style=\"text-align: right;\">\n",
       "      <th></th>\n",
       "      <th>plant_natural_height</th>\n",
       "      <th>n_capsules</th>\n",
       "      <th>n_seeds</th>\n",
       "      <th>stem_length</th>\n",
       "    </tr>\n",
       "  </thead>\n",
       "  <tbody>\n",
       "    <tr>\n",
       "      <th>count</th>\n",
       "      <td>20.00</td>\n",
       "      <td>20.00</td>\n",
       "      <td>20.00</td>\n",
       "      <td>20.00</td>\n",
       "    </tr>\n",
       "    <tr>\n",
       "      <th>mean</th>\n",
       "      <td>65.65</td>\n",
       "      <td>6.70</td>\n",
       "      <td>8.00</td>\n",
       "      <td>55.65</td>\n",
       "    </tr>\n",
       "    <tr>\n",
       "      <th>std</th>\n",
       "      <td>9.76</td>\n",
       "      <td>2.39</td>\n",
       "      <td>0.73</td>\n",
       "      <td>10.15</td>\n",
       "    </tr>\n",
       "    <tr>\n",
       "      <th>min</th>\n",
       "      <td>49.00</td>\n",
       "      <td>4.00</td>\n",
       "      <td>7.00</td>\n",
       "      <td>37.00</td>\n",
       "    </tr>\n",
       "    <tr>\n",
       "      <th>25%</th>\n",
       "      <td>59.00</td>\n",
       "      <td>5.00</td>\n",
       "      <td>7.75</td>\n",
       "      <td>48.50</td>\n",
       "    </tr>\n",
       "    <tr>\n",
       "      <th>50%</th>\n",
       "      <td>68.00</td>\n",
       "      <td>7.00</td>\n",
       "      <td>8.00</td>\n",
       "      <td>60.00</td>\n",
       "    </tr>\n",
       "    <tr>\n",
       "      <th>75%</th>\n",
       "      <td>74.00</td>\n",
       "      <td>8.00</td>\n",
       "      <td>8.25</td>\n",
       "      <td>63.25</td>\n",
       "    </tr>\n",
       "    <tr>\n",
       "      <th>max</th>\n",
       "      <td>80.00</td>\n",
       "      <td>14.00</td>\n",
       "      <td>9.00</td>\n",
       "      <td>67.00</td>\n",
       "    </tr>\n",
       "  </tbody>\n",
       "</table>\n",
       "</div>"
      ],
      "text/plain": [
       "       plant_natural_height  n_capsules  n_seeds  stem_length\n",
       "count                 20.00       20.00    20.00        20.00\n",
       "mean                  65.65        6.70     8.00        55.65\n",
       "std                    9.76        2.39     0.73        10.15\n",
       "min                   49.00        4.00     7.00        37.00\n",
       "25%                   59.00        5.00     7.75        48.50\n",
       "50%                   68.00        7.00     8.00        60.00\n",
       "75%                   74.00        8.00     8.25        63.25\n",
       "max                   80.00       14.00     9.00        67.00"
      ]
     },
     "execution_count": 15,
     "metadata": {},
     "output_type": "execute_result"
    }
   ],
   "source": [
    "# Get basic statistics\n",
    "round(df_no_ins.describe(),2)"
   ]
  },
  {
   "cell_type": "code",
   "execution_count": 16,
   "id": "638a32a5",
   "metadata": {},
   "outputs": [
    {
     "data": {
      "image/png": "[encoded data removed]",
      "text/plain": [
       "<Figure size 2100x1200 with 1 Axes>"
      ]
     },
     "metadata": {},
     "output_type": "display_data"
    }
   ],
   "source": [
    "# Vizualize feature 'plant_natural_height' for plants with no insertion - no outliers detected\n",
    "plt.boxplot(df_no_ins['plant_natural_height'], showmeans= True)\n",
    "plt.title('Plant natural height')\n",
    "plt.show()"
   ]
  },
  {
   "cell_type": "code",
   "execution_count": 17,
   "id": "70c331ed",
   "metadata": {},
   "outputs": [],
   "source": [
    "# Slice dataframe - heterozygote plants\n",
    "df_pl = df_anova[df_anova['LIS_plastic'] == 'pl']"
   ]
  },
  {
   "cell_type": "code",
   "execution_count": 18,
   "id": "07249470",
   "metadata": {},
   "outputs": [
    {
     "data": {
      "text/html": [
       "<div>\n",
       "<style scoped>\n",
       "    .dataframe tbody tr th:only-of-type {\n",
       "        vertical-align: middle;\n",
       "    }\n",
       "\n",
       "    .dataframe tbody tr th {\n",
       "        vertical-align: top;\n",
       "    }\n",
       "\n",
       "    .dataframe thead th {\n",
       "        text-align: right;\n",
       "    }\n",
       "</style>\n",
       "<table border=\"1\" class=\"dataframe\">\n",
       "  <thead>\n",
       "    <tr style=\"text-align: right;\">\n",
       "      <th></th>\n",
       "      <th>plant_natural_height</th>\n",
       "      <th>n_capsules</th>\n",
       "      <th>n_seeds</th>\n",
       "      <th>stem_length</th>\n",
       "    </tr>\n",
       "  </thead>\n",
       "  <tbody>\n",
       "    <tr>\n",
       "      <th>count</th>\n",
       "      <td>125.00</td>\n",
       "      <td>125.00</td>\n",
       "      <td>125.00</td>\n",
       "      <td>125.00</td>\n",
       "    </tr>\n",
       "    <tr>\n",
       "      <th>mean</th>\n",
       "      <td>64.98</td>\n",
       "      <td>6.50</td>\n",
       "      <td>8.17</td>\n",
       "      <td>51.12</td>\n",
       "    </tr>\n",
       "    <tr>\n",
       "      <th>std</th>\n",
       "      <td>5.86</td>\n",
       "      <td>2.49</td>\n",
       "      <td>0.83</td>\n",
       "      <td>5.37</td>\n",
       "    </tr>\n",
       "    <tr>\n",
       "      <th>min</th>\n",
       "      <td>50.00</td>\n",
       "      <td>1.00</td>\n",
       "      <td>6.00</td>\n",
       "      <td>33.00</td>\n",
       "    </tr>\n",
       "    <tr>\n",
       "      <th>25%</th>\n",
       "      <td>60.00</td>\n",
       "      <td>5.00</td>\n",
       "      <td>8.00</td>\n",
       "      <td>48.00</td>\n",
       "    </tr>\n",
       "    <tr>\n",
       "      <th>50%</th>\n",
       "      <td>65.00</td>\n",
       "      <td>6.00</td>\n",
       "      <td>8.00</td>\n",
       "      <td>51.00</td>\n",
       "    </tr>\n",
       "    <tr>\n",
       "      <th>75%</th>\n",
       "      <td>70.00</td>\n",
       "      <td>8.00</td>\n",
       "      <td>9.00</td>\n",
       "      <td>55.00</td>\n",
       "    </tr>\n",
       "    <tr>\n",
       "      <th>max</th>\n",
       "      <td>80.00</td>\n",
       "      <td>20.00</td>\n",
       "      <td>10.00</td>\n",
       "      <td>62.00</td>\n",
       "    </tr>\n",
       "  </tbody>\n",
       "</table>\n",
       "</div>"
      ],
      "text/plain": [
       "       plant_natural_height  n_capsules  n_seeds  stem_length\n",
       "count                125.00      125.00   125.00       125.00\n",
       "mean                  64.98        6.50     8.17        51.12\n",
       "std                    5.86        2.49     0.83         5.37\n",
       "min                   50.00        1.00     6.00        33.00\n",
       "25%                   60.00        5.00     8.00        48.00\n",
       "50%                   65.00        6.00     8.00        51.00\n",
       "75%                   70.00        8.00     9.00        55.00\n",
       "max                   80.00       20.00    10.00        62.00"
      ]
     },
     "execution_count": 18,
     "metadata": {},
     "output_type": "execute_result"
    }
   ],
   "source": [
    "# Get basic statistics\n",
    "round(df_pl.describe(),2)"
   ]
  },
  {
   "cell_type": "code",
   "execution_count": 19,
   "id": "fb6d8762",
   "metadata": {},
   "outputs": [
    {
     "data": {
      "image/png": "[encoded data removed]",
      "text/plain": [
       "<Figure size 2100x1200 with 1 Axes>"
      ]
     },
     "metadata": {},
     "output_type": "display_data"
    }
   ],
   "source": [
    "# Vizualize feature 'plant_natural_height' for plants with no insertion - no outliers detected\n",
    "plt.boxplot(df_pl['plant_natural_height'], showmeans= True)\n",
    "plt.title('Plant natural height')\n",
    "plt.show()"
   ]
  },
  {
   "cell_type": "code",
   "execution_count": 20,
   "id": "2ed2c1e7",
   "metadata": {},
   "outputs": [
    {
     "data": {
      "text/plain": [
       "LeveneResult(statistic=2.7488977505534913, pvalue=0.06600583917092001)"
      ]
     },
     "execution_count": 20,
     "metadata": {},
     "output_type": "execute_result"
    }
   ],
   "source": [
    "# Perfom Levene test to check gomoscedasticity (homogeneity of variance)\n",
    "stats.levene(df_ins['n_seeds'],\n",
    "             df_no_ins['n_seeds'],\n",
    "            df_pl['n_seeds'])"
   ]
  },
  {
   "cell_type": "code",
   "execution_count": 21,
   "id": "95996c9a",
   "metadata": {},
   "outputs": [],
   "source": [
    "# Extract individual groups\n",
    "ins_l = df_ins.loc[(df_ins['LIS_plastic'] == 1), ['n_seeds']]\n",
    "no_ins_l = df_no_ins.loc[(df_no_ins['LIS_plastic'] == 0), ['n_seeds']]\n",
    "pl_l = df_pl.loc[(df_pl['LIS_plastic'] == 'pl'), ['n_seeds']]"
   ]
  },
  {
   "cell_type": "code",
   "execution_count": 22,
   "id": "289cd529",
   "metadata": {},
   "outputs": [
    {
     "name": "stdout",
     "output_type": "stream",
     "text": [
      "[10.12740692] [0.00166994]\n"
     ]
    }
   ],
   "source": [
    "# ANOVA run to compare groups with insertion and 'pl' group by number of seeds\n",
    "fvalue, pvalue = stats.f_oneway(ins_l, pl_l)\n",
    "print(fvalue, pvalue)"
   ]
  },
  {
   "cell_type": "code",
   "execution_count": 23,
   "id": "b8c52c31",
   "metadata": {},
   "outputs": [
    {
     "name": "stdout",
     "output_type": "stream",
     "text": [
      "[0.89511405] [0.34604506]\n"
     ]
    }
   ],
   "source": [
    "# ANOVA run to compare groups with insertion and withought it by number of seeds\n",
    "fvalue, pvalue = stats.f_oneway(ins_l, no_ins_l)\n",
    "print(fvalue, pvalue)"
   ]
  },
  {
   "cell_type": "code",
   "execution_count": 24,
   "id": "d3cf304f",
   "metadata": {},
   "outputs": [
    {
     "data": {
      "text/plain": [
       "LeveneResult(statistic=9.88333545366465, pvalue=0.002113996483139355)"
      ]
     },
     "execution_count": 24,
     "metadata": {},
     "output_type": "execute_result"
    }
   ],
   "source": [
    "# Perform the Brown-Forsythe Test to check gomoscedasticity (homogeneity of variance)\n",
    "stats.levene(df_ins['plant_natural_height'],\n",
    "             df_no_ins['plant_natural_height'],\n",
    "            center = 'median')"
   ]
  },
  {
   "cell_type": "code",
   "execution_count": 25,
   "id": "c40f002e",
   "metadata": {},
   "outputs": [
    {
     "data": {
      "text/plain": [
       "LeveneResult(statistic=0.0058353717370665786, pvalue=0.9391779372707628)"
      ]
     },
     "execution_count": 25,
     "metadata": {},
     "output_type": "execute_result"
    }
   ],
   "source": [
    "# Perform the Brown-Forsythe Test\n",
    "stats.levene(df_ins['plant_natural_height'],\n",
    "             df_pl['plant_natural_height'],\n",
    "            center = 'median')"
   ]
  },
  {
   "cell_type": "code",
   "execution_count": 26,
   "id": "1df5a006",
   "metadata": {},
   "outputs": [],
   "source": [
    "# Extract individual groups\n",
    "ins = df_ins.loc[(df_ins['LIS_plastic'] == 1), ['plant_natural_height']]\n",
    "no_ins = df_no_ins.loc[(df_no_ins['LIS_plastic'] == 0), ['plant_natural_height']]\n",
    "pl = df_pl.loc[(df_pl['LIS_plastic'] == 'pl'), ['plant_natural_height']]\n"
   ]
  },
  {
   "cell_type": "code",
   "execution_count": 27,
   "id": "c20fae60",
   "metadata": {},
   "outputs": [
    {
     "name": "stdout",
     "output_type": "stream",
     "text": [
      "[36.42014446] [6.60099227e-09]\n"
     ]
    }
   ],
   "source": [
    "# ANOVA run to compare groups pl and ins (1)\n",
    "fvalue, pvalue = stats.f_oneway(pl, ins)\n",
    "print(fvalue, pvalue)"
   ]
  },
  {
   "cell_type": "code",
   "execution_count": 28,
   "id": "741e3516",
   "metadata": {},
   "outputs": [
    {
     "data": {
      "text/plain": [
       "MannwhitneyuResult(statistic=array([604.]), pvalue=array([0.0059963]))"
      ]
     },
     "execution_count": 28,
     "metadata": {},
     "output_type": "execute_result"
    }
   ],
   "source": [
    "# Non-parametric test to compare groups ins (1) and no_ins (0)\n",
    "stats.mannwhitneyu(x=ins, y=no_ins, alternative = 'two-sided')"
   ]
  },
  {
   "cell_type": "code",
   "execution_count": 29,
   "id": "5c7f3b7d",
   "metadata": {},
   "outputs": [
    {
     "data": {
      "text/plain": [
       "<Figure size 2100x1500 with 0 Axes>"
      ]
     },
     "metadata": {},
     "output_type": "display_data"
    }
   ],
   "source": [
    "# Figure 9. Distribution of groups of flax varieties along the length of the plant.\n",
    "plt.style.use('ggplot')\n",
    "plt.rcParams.update({'figure.dpi':300})\n",
    "#plt.style.use('fivethirtyeight')\n",
    "f,ax = plt.subplots(figsize = (7,5))\n",
    "sns.histplot(df_ins[df_ins.LIS_plastic == 1].plant_natural_height, ax = ax, label = 'insertion', color = 'black', alpha=.5, edgecolor=(1, 1, 1, .4))\n",
    "sns.histplot(df_no_ins[df_no_ins.LIS_plastic == 0].plant_natural_height, ax = ax, label = 'no_insertion', color = 'indigo', alpha=.8, edgecolor=(1, 1, 1, .4))\n",
    "sns.histplot(df_pl[df_pl.LIS_plastic == 'pl'].plant_natural_height, ax = ax, label = 'pl', color = 'gold', alpha=.8, edgecolor=(1, 1, 1, .4))   \n",
    "sns.rugplot(df_anova, x=\"plant_natural_height\")\n",
    "plt.title('Natural height of the plants shown by category') #Number of plants of a certain height shown by category\n",
    "plt.xlabel('Plant Natural Height, sm')\n",
    "plt.ylabel('Number of Plants')\n",
    "#ax.set_yscale('log')\n",
    "plt.legend()\n",
    "\n",
    "plt.clf()"
   ]
  },
  {
   "cell_type": "markdown",
   "id": "d4b1b491",
   "metadata": {},
   "source": [
    "# Bionformatics analysis"
   ]
  },
  {
   "cell_type": "code",
   "execution_count": 30,
   "id": "be1ebecf",
   "metadata": {},
   "outputs": [
    {
     "data": {
      "text/html": [
       "<div>\n",
       "<style scoped>\n",
       "    .dataframe tbody tr th:only-of-type {\n",
       "        vertical-align: middle;\n",
       "    }\n",
       "\n",
       "    .dataframe tbody tr th {\n",
       "        vertical-align: top;\n",
       "    }\n",
       "\n",
       "    .dataframe thead th {\n",
       "        text-align: right;\n",
       "    }\n",
       "</style>\n",
       "<table border=\"1\" class=\"dataframe\">\n",
       "  <thead>\n",
       "    <tr style=\"text-align: right;\">\n",
       "      <th></th>\n",
       "      <th>variety</th>\n",
       "      <th>lis_hetero</th>\n",
       "      <th>hairs_number</th>\n",
       "      <th>plant_natural_height</th>\n",
       "      <th>n_capsules</th>\n",
       "      <th>n_seeds</th>\n",
       "      <th>stem_length</th>\n",
       "      <th>hypo_antho</th>\n",
       "    </tr>\n",
       "  </thead>\n",
       "  <tbody>\n",
       "    <tr>\n",
       "      <th>0</th>\n",
       "      <td>k-6222</td>\n",
       "      <td>1</td>\n",
       "      <td>HH</td>\n",
       "      <td>70</td>\n",
       "      <td>10</td>\n",
       "      <td>9</td>\n",
       "      <td>57</td>\n",
       "      <td>missed</td>\n",
       "    </tr>\n",
       "    <tr>\n",
       "      <th>1</th>\n",
       "      <td>k-6222</td>\n",
       "      <td>1</td>\n",
       "      <td>Hh</td>\n",
       "      <td>65</td>\n",
       "      <td>10</td>\n",
       "      <td>8</td>\n",
       "      <td>45</td>\n",
       "      <td>missed</td>\n",
       "    </tr>\n",
       "    <tr>\n",
       "      <th>2</th>\n",
       "      <td>k-6222</td>\n",
       "      <td>1</td>\n",
       "      <td>HH</td>\n",
       "      <td>79</td>\n",
       "      <td>11</td>\n",
       "      <td>9</td>\n",
       "      <td>62</td>\n",
       "      <td>missed</td>\n",
       "    </tr>\n",
       "    <tr>\n",
       "      <th>3</th>\n",
       "      <td>k-6222</td>\n",
       "      <td>1</td>\n",
       "      <td>Hh</td>\n",
       "      <td>72</td>\n",
       "      <td>9</td>\n",
       "      <td>8</td>\n",
       "      <td>48</td>\n",
       "      <td>missed</td>\n",
       "    </tr>\n",
       "    <tr>\n",
       "      <th>4</th>\n",
       "      <td>k-6222</td>\n",
       "      <td>1</td>\n",
       "      <td>Hh</td>\n",
       "      <td>61</td>\n",
       "      <td>4</td>\n",
       "      <td>7</td>\n",
       "      <td>53</td>\n",
       "      <td>missed</td>\n",
       "    </tr>\n",
       "  </tbody>\n",
       "</table>\n",
       "</div>"
      ],
      "text/plain": [
       "  variety  lis_hetero hairs_number  plant_natural_height  n_capsules  n_seeds  \\\n",
       "0  k-6222           1           HH                    70          10        9   \n",
       "1  k-6222           1           Hh                    65          10        8   \n",
       "2  k-6222           1           HH                    79          11        9   \n",
       "3  k-6222           1           Hh                    72           9        8   \n",
       "4  k-6222           1           Hh                    61           4        7   \n",
       "\n",
       "   stem_length hypo_antho  \n",
       "0           57     missed  \n",
       "1           45     missed  \n",
       "2           62     missed  \n",
       "3           48     missed  \n",
       "4           53     missed  "
      ]
     },
     "execution_count": 30,
     "metadata": {},
     "output_type": "execute_result"
    }
   ],
   "source": [
    "# Load database df_nums\n",
    "df_nums = pd.read_excel(\"~/db/flax_data_manuscript.ods\", sheet_name='ml')\n",
    "df_nums.head()"
   ]
  },
  {
   "cell_type": "code",
   "execution_count": 31,
   "id": "0f5de636",
   "metadata": {},
   "outputs": [
    {
     "name": "stdout",
     "output_type": "stream",
     "text": [
      "<class 'pandas.core.frame.DataFrame'>\n",
      "RangeIndex: 56 entries, 0 to 55\n",
      "Data columns (total 8 columns):\n",
      " #   Column                Non-Null Count  Dtype \n",
      "---  ------                --------------  ----- \n",
      " 0   variety               56 non-null     object\n",
      " 1   lis_hetero            56 non-null     int64 \n",
      " 2   hairs_number          56 non-null     object\n",
      " 3   plant_natural_height  56 non-null     int64 \n",
      " 4   n_capsules            56 non-null     int64 \n",
      " 5   n_seeds               56 non-null     int64 \n",
      " 6   stem_length           56 non-null     int64 \n",
      " 7   hypo_antho            56 non-null     object\n",
      "dtypes: int64(5), object(3)\n",
      "memory usage: 3.6+ KB\n"
     ]
    }
   ],
   "source": [
    "# Get info about data - data types, missing values\n",
    "df_nums.info()"
   ]
  },
  {
   "cell_type": "code",
   "execution_count": 32,
   "id": "99852a43",
   "metadata": {
    "scrolled": true
   },
   "outputs": [
    {
     "data": {
      "text/plain": [
       "<Figure size 2400x1500 with 0 Axes>"
      ]
     },
     "metadata": {},
     "output_type": "display_data"
    }
   ],
   "source": [
    "# Disrtibutioin of the feature hary septa across flax varieties is shown\n",
    "plt.rcParams.update({'figure.figsize':(8,5), 'figure.dpi':300})\n",
    "sns.countplot(x='variety', data=df_nums, hue='hairs_number')\n",
    "plt.title(\"Ciliation of septa by number of hairs across flax varieties\")\n",
    "plt.xlabel('Variety')\n",
    "\n",
    "plt.clf()"
   ]
  },
  {
   "cell_type": "code",
   "execution_count": 33,
   "id": "8c7c29fa",
   "metadata": {},
   "outputs": [
    {
     "data": {
      "text/plain": [
       "<Figure size 2400x1500 with 0 Axes>"
      ]
     },
     "metadata": {},
     "output_type": "display_data"
    }
   ],
   "source": [
    "# Disrtibutioin of the feature hary septa across flax varieties is shown\n",
    "plt.rcParams.update({'figure.figsize':(8,5), 'figure.dpi':300})\n",
    "sns.countplot(x='lis_hetero', data=df_nums, hue='hairs_number')\n",
    "plt.title(\"Ciliation of septa by number of hairs across LIS-1 groups\")\n",
    "plt.xlabel('Group by LIS-1')\n",
    "plt.ylabel('Number of Plants')\n",
    "\n",
    "plt.clf()"
   ]
  },
  {
   "cell_type": "markdown",
   "id": "82218c60",
   "metadata": {},
   "source": [
    "### Dataset preparation"
   ]
  },
  {
   "cell_type": "code",
   "execution_count": 34,
   "id": "2a92c22a",
   "metadata": {},
   "outputs": [],
   "source": [
    "# Import modul \n",
    "from sklearn.preprocessing import StandardScaler"
   ]
  },
  {
   "cell_type": "code",
   "execution_count": 35,
   "id": "96a59562",
   "metadata": {},
   "outputs": [],
   "source": [
    "# Transform categorical features to dummy format\n",
    "df_cat = pd.get_dummies(df_nums[['hairs_number', 'hypo_antho']], drop_first=True)"
   ]
  },
  {
   "cell_type": "code",
   "execution_count": 36,
   "id": "eae97645",
   "metadata": {},
   "outputs": [],
   "source": [
    "# Get numeric features\n",
    "X_nums = df_nums.drop(['hairs_number', 'hypo_antho'], axis=1)"
   ]
  },
  {
   "cell_type": "code",
   "execution_count": 37,
   "id": "25f1e98e",
   "metadata": {},
   "outputs": [],
   "source": [
    "# Concatenate encoded categorical features and numeric features\n",
    "X_combo = pd.concat([df_cat, X_nums], axis=1)"
   ]
  },
  {
   "cell_type": "code",
   "execution_count": 38,
   "id": "090ec69b",
   "metadata": {},
   "outputs": [],
   "source": [
    "# Increasing the dataset size in 3 times as we have originally only 56 samples\n",
    "X_sample = X_combo.sample(frac=3, replace=True, random_state=1)"
   ]
  },
  {
   "cell_type": "code",
   "execution_count": 39,
   "id": "d905de96",
   "metadata": {},
   "outputs": [],
   "source": [
    "# Drop unnecessary fearures \n",
    "X = X_sample.drop(['variety'], axis=1)"
   ]
  },
  {
   "cell_type": "code",
   "execution_count": 40,
   "id": "10ea37de",
   "metadata": {},
   "outputs": [
    {
     "name": "stdout",
     "output_type": "stream",
     "text": [
      "<class 'pandas.core.frame.DataFrame'>\n",
      "Int64Index: 168 entries, 37 to 18\n",
      "Data columns (total 8 columns):\n",
      " #   Column                Non-Null Count  Dtype\n",
      "---  ------                --------------  -----\n",
      " 0   hairs_number_Hh       168 non-null    uint8\n",
      " 1   hairs_number_hh       168 non-null    uint8\n",
      " 2   hypo_antho_weak       168 non-null    uint8\n",
      " 3   lis_hetero            168 non-null    int64\n",
      " 4   plant_natural_height  168 non-null    int64\n",
      " 5   n_capsules            168 non-null    int64\n",
      " 6   n_seeds               168 non-null    int64\n",
      " 7   stem_length           168 non-null    int64\n",
      "dtypes: int64(5), uint8(3)\n",
      "memory usage: 8.4 KB\n"
     ]
    }
   ],
   "source": [
    "# Get info about datatypes and missing values\n",
    "X.info()"
   ]
  },
  {
   "cell_type": "markdown",
   "id": "de315787",
   "metadata": {},
   "source": [
    "## ML model - Random Forest Classifier and LIS-1 presence prediction"
   ]
  },
  {
   "cell_type": "code",
   "execution_count": 41,
   "id": "d9b4b399",
   "metadata": {},
   "outputs": [
    {
     "data": {
      "text/plain": [
       "Index(['hairs_number_Hh', 'hairs_number_hh', 'hypo_antho_weak',\n",
       "       'plant_natural_height', 'n_capsules', 'n_seeds', 'stem_length'],\n",
       "      dtype='object')"
      ]
     },
     "execution_count": 41,
     "metadata": {},
     "output_type": "execute_result"
    }
   ],
   "source": [
    "# Split dataset to target variable and features\n",
    "X_forest = X.drop(columns=['lis_hetero'], axis=1)\n",
    "X_forest.columns"
   ]
  },
  {
   "cell_type": "code",
   "execution_count": 42,
   "id": "ba97d21c",
   "metadata": {},
   "outputs": [],
   "source": [
    "# Labels for prediction\n",
    "y = X_sample[['lis_hetero']]\n",
    "y_forest = y"
   ]
  },
  {
   "cell_type": "code",
   "execution_count": 43,
   "id": "d5bad803",
   "metadata": {},
   "outputs": [],
   "source": [
    "# Split data to train and test sets\n",
    "X_train, X_test, y_train, y_test = train_test_split(X_forest, y_forest, test_size=0.3, \n",
    "                                                    random_state=46, stratify=y_forest)\n",
    "y_train = np.array(y_train)\n",
    "y_test = np.array(y_test)"
   ]
  },
  {
   "cell_type": "code",
   "execution_count": 44,
   "id": "e3c06482",
   "metadata": {},
   "outputs": [],
   "source": [
    "# Data standartization\n",
    "scaler = StandardScaler()\n",
    "X_train_std = scaler.fit_transform(X_train)\n",
    "X_test_std = scaler.transform(X_test)"
   ]
  },
  {
   "cell_type": "code",
   "execution_count": 45,
   "id": "f8fb7c6a",
   "metadata": {},
   "outputs": [],
   "source": [
    "# GridsearchCV and hyperparameters tunning to find the best solution for prediction\n",
    "# Create the parameter grid\n",
    "param_grid = {\n",
    "    'bootstrap': [True, False],\n",
    "    'max_depth': [3, 5, 7, 10],\n",
    "    'criterion': ['gini', 'entropy'],\n",
    "    'n_estimators': [600, 800, 1000]\n",
    "}\n",
    "# Use KFold cross-validation when split the data\n",
    "\n",
    "kf = KFold(n_splits=10, shuffle=True, random_state=43)\n",
    "\n",
    "# Create a based model\n",
    "forest = RandomForestClassifier(random_state=13)\n",
    "# Instantiate the grid search model\n",
    "grid_search = GridSearchCV(estimator = forest, param_grid = param_grid, \n",
    "                          cv = kf, n_jobs = -1, verbose = 1, error_score='raise')\n"
   ]
  },
  {
   "cell_type": "code",
   "execution_count": 46,
   "id": "f74ff165",
   "metadata": {},
   "outputs": [
    {
     "name": "stdout",
     "output_type": "stream",
     "text": [
      "Fitting 10 folds for each of 48 candidates, totalling 480 fits\n"
     ]
    },
    {
     "data": {
      "text/html": [
       "<style>#sk-container-id-1 {color: black;background-color: white;}#sk-container-id-1 pre{padding: 0;}#sk-container-id-1 div.sk-toggleable {background-color: white;}#sk-container-id-1 label.sk-toggleable__label {cursor: pointer;display: block;width: 100%;margin-bottom: 0;padding: 0.3em;box-sizing: border-box;text-align: center;}#sk-container-id-1 label.sk-toggleable__label-arrow:before {content: \"▸\";float: left;margin-right: 0.25em;color: #696969;}#sk-container-id-1 label.sk-toggleable__label-arrow:hover:before {color: black;}#sk-container-id-1 div.sk-estimator:hover label.sk-toggleable__label-arrow:before {color: black;}#sk-container-id-1 div.sk-toggleable__content {max-height: 0;max-width: 0;overflow: hidden;text-align: left;background-color: #f0f8ff;}#sk-container-id-1 div.sk-toggleable__content pre {margin: 0.2em;color: black;border-radius: 0.25em;background-color: #f0f8ff;}#sk-container-id-1 input.sk-toggleable__control:checked~div.sk-toggleable__content {max-height: 200px;max-width: 100%;overflow: auto;}#sk-container-id-1 input.sk-toggleable__control:checked~label.sk-toggleable__label-arrow:before {content: \"▾\";}#sk-container-id-1 div.sk-estimator input.sk-toggleable__control:checked~label.sk-toggleable__label {background-color: #d4ebff;}#sk-container-id-1 div.sk-label input.sk-toggleable__control:checked~label.sk-toggleable__label {background-color: #d4ebff;}#sk-container-id-1 input.sk-hidden--visually {border: 0;clip: rect(1px 1px 1px 1px);clip: rect(1px, 1px, 1px, 1px);height: 1px;margin: -1px;overflow: hidden;padding: 0;position: absolute;width: 1px;}#sk-container-id-1 div.sk-estimator {font-family: monospace;background-color: #f0f8ff;border: 1px dotted black;border-radius: 0.25em;box-sizing: border-box;margin-bottom: 0.5em;}#sk-container-id-1 div.sk-estimator:hover {background-color: #d4ebff;}#sk-container-id-1 div.sk-parallel-item::after {content: \"\";width: 100%;border-bottom: 1px solid gray;flex-grow: 1;}#sk-container-id-1 div.sk-label:hover label.sk-toggleable__label {background-color: #d4ebff;}#sk-container-id-1 div.sk-serial::before {content: \"\";position: absolute;border-left: 1px solid gray;box-sizing: border-box;top: 0;bottom: 0;left: 50%;z-index: 0;}#sk-container-id-1 div.sk-serial {display: flex;flex-direction: column;align-items: center;background-color: white;padding-right: 0.2em;padding-left: 0.2em;position: relative;}#sk-container-id-1 div.sk-item {position: relative;z-index: 1;}#sk-container-id-1 div.sk-parallel {display: flex;align-items: stretch;justify-content: center;background-color: white;position: relative;}#sk-container-id-1 div.sk-item::before, #sk-container-id-1 div.sk-parallel-item::before {content: \"\";position: absolute;border-left: 1px solid gray;box-sizing: border-box;top: 0;bottom: 0;left: 50%;z-index: -1;}#sk-container-id-1 div.sk-parallel-item {display: flex;flex-direction: column;z-index: 1;position: relative;background-color: white;}#sk-container-id-1 div.sk-parallel-item:first-child::after {align-self: flex-end;width: 50%;}#sk-container-id-1 div.sk-parallel-item:last-child::after {align-self: flex-start;width: 50%;}#sk-container-id-1 div.sk-parallel-item:only-child::after {width: 0;}#sk-container-id-1 div.sk-dashed-wrapped {border: 1px dashed gray;margin: 0 0.4em 0.5em 0.4em;box-sizing: border-box;padding-bottom: 0.4em;background-color: white;}#sk-container-id-1 div.sk-label label {font-family: monospace;font-weight: bold;display: inline-block;line-height: 1.2em;}#sk-container-id-1 div.sk-label-container {text-align: center;}#sk-container-id-1 div.sk-container {/* jupyter's `normalize.less` sets `[hidden] { display: none; }` but bootstrap.min.css set `[hidden] { display: none !important; }` so we also need the `!important` here to be able to override the default hidden behavior on the sphinx rendered scikit-learn.org. See: https://github.com/scikit-learn/scikit-learn/issues/21755 */display: inline-block !important;position: relative;}#sk-container-id-1 div.sk-text-repr-fallback {display: none;}</style><div id=\"sk-container-id-1\" class=\"sk-top-container\"><div class=\"sk-text-repr-fallback\"><pre>GridSearchCV(cv=KFold(n_splits=10, random_state=43, shuffle=True),\n",
       "             error_score=&#x27;raise&#x27;,\n",
       "             estimator=RandomForestClassifier(random_state=13), n_jobs=-1,\n",
       "             param_grid={&#x27;bootstrap&#x27;: [True, False],\n",
       "                         &#x27;criterion&#x27;: [&#x27;gini&#x27;, &#x27;entropy&#x27;],\n",
       "                         &#x27;max_depth&#x27;: [3, 5, 7, 10],\n",
       "                         &#x27;n_estimators&#x27;: [600, 800, 1000]},\n",
       "             verbose=1)</pre><b>In a Jupyter environment, please rerun this cell to show the HTML representation or trust the notebook. <br />On GitHub, the HTML representation is unable to render, please try loading this page with nbviewer.org.</b></div><div class=\"sk-container\" hidden><div class=\"sk-item sk-dashed-wrapped\"><div class=\"sk-label-container\"><div class=\"sk-label sk-toggleable\"><input class=\"sk-toggleable__control sk-hidden--visually\" id=\"sk-estimator-id-1\" type=\"checkbox\" ><label for=\"sk-estimator-id-1\" class=\"sk-toggleable__label sk-toggleable__label-arrow\">GridSearchCV</label><div class=\"sk-toggleable__content\"><pre>GridSearchCV(cv=KFold(n_splits=10, random_state=43, shuffle=True),\n",
       "             error_score=&#x27;raise&#x27;,\n",
       "             estimator=RandomForestClassifier(random_state=13), n_jobs=-1,\n",
       "             param_grid={&#x27;bootstrap&#x27;: [True, False],\n",
       "                         &#x27;criterion&#x27;: [&#x27;gini&#x27;, &#x27;entropy&#x27;],\n",
       "                         &#x27;max_depth&#x27;: [3, 5, 7, 10],\n",
       "                         &#x27;n_estimators&#x27;: [600, 800, 1000]},\n",
       "             verbose=1)</pre></div></div></div><div class=\"sk-parallel\"><div class=\"sk-parallel-item\"><div class=\"sk-item\"><div class=\"sk-label-container\"><div class=\"sk-label sk-toggleable\"><input class=\"sk-toggleable__control sk-hidden--visually\" id=\"sk-estimator-id-2\" type=\"checkbox\" ><label for=\"sk-estimator-id-2\" class=\"sk-toggleable__label sk-toggleable__label-arrow\">estimator: RandomForestClassifier</label><div class=\"sk-toggleable__content\"><pre>RandomForestClassifier(random_state=13)</pre></div></div></div><div class=\"sk-serial\"><div class=\"sk-item\"><div class=\"sk-estimator sk-toggleable\"><input class=\"sk-toggleable__control sk-hidden--visually\" id=\"sk-estimator-id-3\" type=\"checkbox\" ><label for=\"sk-estimator-id-3\" class=\"sk-toggleable__label sk-toggleable__label-arrow\">RandomForestClassifier</label><div class=\"sk-toggleable__content\"><pre>RandomForestClassifier(random_state=13)</pre></div></div></div></div></div></div></div></div></div></div>"
      ],
      "text/plain": [
       "GridSearchCV(cv=KFold(n_splits=10, random_state=43, shuffle=True),\n",
       "             error_score='raise',\n",
       "             estimator=RandomForestClassifier(random_state=13), n_jobs=-1,\n",
       "             param_grid={'bootstrap': [True, False],\n",
       "                         'criterion': ['gini', 'entropy'],\n",
       "                         'max_depth': [3, 5, 7, 10],\n",
       "                         'n_estimators': [600, 800, 1000]},\n",
       "             verbose=1)"
      ]
     },
     "execution_count": 46,
     "metadata": {},
     "output_type": "execute_result"
    }
   ],
   "source": [
    "# Fit the grid search to the data\n",
    "grid_search.fit(X_train_std, y_train.ravel())"
   ]
  },
  {
   "cell_type": "code",
   "execution_count": 47,
   "id": "6e4a0b00",
   "metadata": {},
   "outputs": [
    {
     "name": "stdout",
     "output_type": "stream",
     "text": [
      "The best parameters: {'bootstrap': True, 'criterion': 'entropy', 'max_depth': 7, 'n_estimators': 1000}\n"
     ]
    }
   ],
   "source": [
    "#Find the best values\n",
    "print(\"The best parameters: {0}\".format(grid_search.best_params_))"
   ]
  },
  {
   "cell_type": "code",
   "execution_count": 48,
   "id": "c48b2d14",
   "metadata": {},
   "outputs": [
    {
     "data": {
      "text/html": [
       "<style>#sk-container-id-2 {color: black;background-color: white;}#sk-container-id-2 pre{padding: 0;}#sk-container-id-2 div.sk-toggleable {background-color: white;}#sk-container-id-2 label.sk-toggleable__label {cursor: pointer;display: block;width: 100%;margin-bottom: 0;padding: 0.3em;box-sizing: border-box;text-align: center;}#sk-container-id-2 label.sk-toggleable__label-arrow:before {content: \"▸\";float: left;margin-right: 0.25em;color: #696969;}#sk-container-id-2 label.sk-toggleable__label-arrow:hover:before {color: black;}#sk-container-id-2 div.sk-estimator:hover label.sk-toggleable__label-arrow:before {color: black;}#sk-container-id-2 div.sk-toggleable__content {max-height: 0;max-width: 0;overflow: hidden;text-align: left;background-color: #f0f8ff;}#sk-container-id-2 div.sk-toggleable__content pre {margin: 0.2em;color: black;border-radius: 0.25em;background-color: #f0f8ff;}#sk-container-id-2 input.sk-toggleable__control:checked~div.sk-toggleable__content {max-height: 200px;max-width: 100%;overflow: auto;}#sk-container-id-2 input.sk-toggleable__control:checked~label.sk-toggleable__label-arrow:before {content: \"▾\";}#sk-container-id-2 div.sk-estimator input.sk-toggleable__control:checked~label.sk-toggleable__label {background-color: #d4ebff;}#sk-container-id-2 div.sk-label input.sk-toggleable__control:checked~label.sk-toggleable__label {background-color: #d4ebff;}#sk-container-id-2 input.sk-hidden--visually {border: 0;clip: rect(1px 1px 1px 1px);clip: rect(1px, 1px, 1px, 1px);height: 1px;margin: -1px;overflow: hidden;padding: 0;position: absolute;width: 1px;}#sk-container-id-2 div.sk-estimator {font-family: monospace;background-color: #f0f8ff;border: 1px dotted black;border-radius: 0.25em;box-sizing: border-box;margin-bottom: 0.5em;}#sk-container-id-2 div.sk-estimator:hover {background-color: #d4ebff;}#sk-container-id-2 div.sk-parallel-item::after {content: \"\";width: 100%;border-bottom: 1px solid gray;flex-grow: 1;}#sk-container-id-2 div.sk-label:hover label.sk-toggleable__label {background-color: #d4ebff;}#sk-container-id-2 div.sk-serial::before {content: \"\";position: absolute;border-left: 1px solid gray;box-sizing: border-box;top: 0;bottom: 0;left: 50%;z-index: 0;}#sk-container-id-2 div.sk-serial {display: flex;flex-direction: column;align-items: center;background-color: white;padding-right: 0.2em;padding-left: 0.2em;position: relative;}#sk-container-id-2 div.sk-item {position: relative;z-index: 1;}#sk-container-id-2 div.sk-parallel {display: flex;align-items: stretch;justify-content: center;background-color: white;position: relative;}#sk-container-id-2 div.sk-item::before, #sk-container-id-2 div.sk-parallel-item::before {content: \"\";position: absolute;border-left: 1px solid gray;box-sizing: border-box;top: 0;bottom: 0;left: 50%;z-index: -1;}#sk-container-id-2 div.sk-parallel-item {display: flex;flex-direction: column;z-index: 1;position: relative;background-color: white;}#sk-container-id-2 div.sk-parallel-item:first-child::after {align-self: flex-end;width: 50%;}#sk-container-id-2 div.sk-parallel-item:last-child::after {align-self: flex-start;width: 50%;}#sk-container-id-2 div.sk-parallel-item:only-child::after {width: 0;}#sk-container-id-2 div.sk-dashed-wrapped {border: 1px dashed gray;margin: 0 0.4em 0.5em 0.4em;box-sizing: border-box;padding-bottom: 0.4em;background-color: white;}#sk-container-id-2 div.sk-label label {font-family: monospace;font-weight: bold;display: inline-block;line-height: 1.2em;}#sk-container-id-2 div.sk-label-container {text-align: center;}#sk-container-id-2 div.sk-container {/* jupyter's `normalize.less` sets `[hidden] { display: none; }` but bootstrap.min.css set `[hidden] { display: none !important; }` so we also need the `!important` here to be able to override the default hidden behavior on the sphinx rendered scikit-learn.org. See: https://github.com/scikit-learn/scikit-learn/issues/21755 */display: inline-block !important;position: relative;}#sk-container-id-2 div.sk-text-repr-fallback {display: none;}</style><div id=\"sk-container-id-2\" class=\"sk-top-container\"><div class=\"sk-text-repr-fallback\"><pre>RandomForestClassifier(criterion=&#x27;entropy&#x27;, max_depth=7, n_estimators=1000,\n",
       "                       random_state=13)</pre><b>In a Jupyter environment, please rerun this cell to show the HTML representation or trust the notebook. <br />On GitHub, the HTML representation is unable to render, please try loading this page with nbviewer.org.</b></div><div class=\"sk-container\" hidden><div class=\"sk-item\"><div class=\"sk-estimator sk-toggleable\"><input class=\"sk-toggleable__control sk-hidden--visually\" id=\"sk-estimator-id-4\" type=\"checkbox\" checked><label for=\"sk-estimator-id-4\" class=\"sk-toggleable__label sk-toggleable__label-arrow\">RandomForestClassifier</label><div class=\"sk-toggleable__content\"><pre>RandomForestClassifier(criterion=&#x27;entropy&#x27;, max_depth=7, n_estimators=1000,\n",
       "                       random_state=13)</pre></div></div></div></div></div>"
      ],
      "text/plain": [
       "RandomForestClassifier(criterion='entropy', max_depth=7, n_estimators=1000,\n",
       "                       random_state=13)"
      ]
     },
     "execution_count": 48,
     "metadata": {},
     "output_type": "execute_result"
    }
   ],
   "source": [
    "# Set the best params to classificator\n",
    "forest.set_params(**grid_search.best_params_)"
   ]
  },
  {
   "cell_type": "code",
   "execution_count": 49,
   "id": "04c6d80e",
   "metadata": {},
   "outputs": [
    {
     "name": "stdout",
     "output_type": "stream",
     "text": [
      "Parameters currently in use:\n",
      "\n",
      "{'bootstrap': True,\n",
      " 'ccp_alpha': 0.0,\n",
      " 'class_weight': None,\n",
      " 'criterion': 'entropy',\n",
      " 'max_depth': 7,\n",
      " 'max_features': 'sqrt',\n",
      " 'max_leaf_nodes': None,\n",
      " 'max_samples': None,\n",
      " 'min_impurity_decrease': 0.0,\n",
      " 'min_samples_leaf': 1,\n",
      " 'min_samples_split': 2,\n",
      " 'min_weight_fraction_leaf': 0.0,\n",
      " 'n_estimators': 1000,\n",
      " 'n_jobs': None,\n",
      " 'oob_score': False,\n",
      " 'random_state': 13,\n",
      " 'verbose': 0,\n",
      " 'warm_start': False}\n"
     ]
    }
   ],
   "source": [
    "# Print hyperparameters used\n",
    "from pprint import pprint\n",
    "print('Parameters currently in use:\\n')\n",
    "pprint(forest.get_params())"
   ]
  },
  {
   "cell_type": "markdown",
   "id": "531edfd0",
   "metadata": {},
   "source": [
    "### Prediction of LIS_1 based on the data"
   ]
  },
  {
   "cell_type": "code",
   "execution_count": 50,
   "id": "166715c9",
   "metadata": {},
   "outputs": [
    {
     "data": {
      "text/plain": [
       "0.9914529914529915"
      ]
     },
     "metadata": {},
     "output_type": "display_data"
    }
   ],
   "source": [
    "# Fit the model on train data\n",
    "forest.fit(X_train_std, y_train.ravel())\n",
    "display(forest.score(X_train_std, y_train))"
   ]
  },
  {
   "cell_type": "code",
   "execution_count": 51,
   "id": "6e12538f",
   "metadata": {},
   "outputs": [
    {
     "name": "stdout",
     "output_type": "stream",
     "text": [
      "Accuracy with RandomForest: 98.039216%\n"
     ]
    }
   ],
   "source": [
    "# Predict the test set\n",
    "y_pred = forest.predict(X_test_std)\n",
    "accuracy = accuracy_score(y_pred, y_test) * 100\n",
    "print(\"Accuracy with RandomForest: {0:.6f}%\".format(accuracy))"
   ]
  },
  {
   "cell_type": "code",
   "execution_count": 52,
   "id": "d681ec4b",
   "metadata": {},
   "outputs": [
    {
     "data": {
      "text/plain": [
       "<Axes: >"
      ]
     },
     "metadata": {},
     "output_type": "display_data"
    },
    {
     "data": {
      "text/plain": [
       "<Figure size 1800x1200 with 0 Axes>"
      ]
     },
     "metadata": {},
     "output_type": "display_data"
    }
   ],
   "source": [
    "# The confusion matrix shows prediction results\n",
    "conf_matrix = pd.DataFrame(confusion_matrix(y_test, y_pred), index = ['actual 0', 'actual 1', 'actual 2'], \n",
    "                           columns = ['predicted 0', 'predicted 1', 'predicted 2'])\n",
    "plt.rcParams.update({'figure.figsize':(6,4), 'figure.dpi':300})\n",
    "display(sns.heatmap(conf_matrix, annot=True, cmap='rocket_r'))\n",
    "plt.clf()"
   ]
  },
  {
   "cell_type": "code",
   "execution_count": 53,
   "id": "163958f2",
   "metadata": {},
   "outputs": [
    {
     "name": "stdout",
     "output_type": "stream",
     "text": [
      "              precision    recall  f1-score   support\n",
      "\n",
      "           0       1.00      1.00      1.00         9\n",
      "           1       1.00      0.97      0.99        35\n",
      "           2       0.88      1.00      0.93         7\n",
      "\n",
      "    accuracy                           0.98        51\n",
      "   macro avg       0.96      0.99      0.97        51\n",
      "weighted avg       0.98      0.98      0.98        51\n",
      "\n"
     ]
    }
   ],
   "source": [
    "#Classification accuracy\n",
    "from sklearn.metrics import classification_report\n",
    "\n",
    "#Classification accuracy\n",
    "print(classification_report(y_test, y_pred))"
   ]
  },
  {
   "cell_type": "code",
   "execution_count": 54,
   "id": "1fd7ae8a",
   "metadata": {},
   "outputs": [
    {
     "data": {
      "text/plain": [
       "stem_length             0.202328\n",
       "plant_natural_height    0.201680\n",
       "n_capsules              0.187276\n",
       "hairs_number_hh         0.131706\n",
       "n_seeds                 0.113984\n",
       "hypo_antho_weak         0.098699\n",
       "hairs_number_Hh         0.064328\n",
       "dtype: float64"
      ]
     },
     "execution_count": 54,
     "metadata": {},
     "output_type": "execute_result"
    }
   ],
   "source": [
    "# Features and its importances estimated with Random Forest Classifier\n",
    "feature_imp = pd.Series(forest.feature_importances_,index=X_forest.columns).sort_values(ascending=False)\n",
    "feature_imp"
   ]
  },
  {
   "cell_type": "code",
   "execution_count": 55,
   "id": "e71c10ed",
   "metadata": {
    "scrolled": true
   },
   "outputs": [
    {
     "data": {
      "text/plain": [
       "<Figure size 2400x900 with 0 Axes>"
      ]
     },
     "metadata": {},
     "output_type": "display_data"
    }
   ],
   "source": [
    "# Bar plot of features and its importances estimated with Random Forest Classifier\n",
    "plt.style.use('ggplot')\n",
    "plt.rcParams.update({'figure.figsize':(8,3), 'figure.dpi':300})\n",
    "sns.barplot(x=feature_imp, y=feature_imp.index,  palette = 'rocket')\n",
    "plt.xlabel('Feature Importance Score')\n",
    "plt.ylabel('Features')\n",
    "plt.title('Important Features')\n",
    "\n",
    "plt.clf()"
   ]
  }
 ],
 "metadata": {
  "kernelspec": {
   "display_name": "Python 3 (ipykernel)",
   "language": "python",
   "name": "python3"
  },
  "language_info": {
   "codemirror_mode": {
    "name": "ipython",
    "version": 3
   },
   "file_extension": ".py",
   "mimetype": "text/x-python",
   "name": "python",
   "nbconvert_exporter": "python",
   "pygments_lexer": "ipython3",
   "version": "3.10.9"
  }
 },
 "nbformat": 4,
 "nbformat_minor": 5
}
